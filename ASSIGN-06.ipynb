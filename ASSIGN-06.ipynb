{
 "cells": [
  {
   "cell_type": "markdown",
   "id": "72d2a3b2-ac4c-48eb-934a-281fb3b61b48",
   "metadata": {},
   "source": [
    "## DATE-05/02/23 OOPS"
   ]
  },
  {
   "cell_type": "markdown",
   "id": "9e5ebba8-28c3-4e4c-90fe-747722927fad",
   "metadata": {},
   "source": [
    "## Q1. Explain Class and Object with respect to Object-Oriented Programming. Give a suitable example?"
   ]
  },
  {
   "cell_type": "code",
   "execution_count": null,
   "id": "ac9e00cb-d1ed-4b15-a40a-6c6cd28e095f",
   "metadata": {},
   "outputs": [],
   "source": [
    "# ANS\n",
    "# OBJECT-In Object-Oriented Programming (OOP), a class is a blueprint or template that defines the attributes and behaviors of a group of objects\n",
    "# CLASS-An object, on the other hand, is an instance of a class that contains its own unique data and can perform the behaviors defined in the class.\n",
    "# EXAMPLE\n",
    "     \n"
   ]
  },
  {
   "cell_type": "code",
   "execution_count": 6,
   "id": "133b1bcf-7e51-4945-9cea-1e4f63929303",
   "metadata": {},
   "outputs": [
    {
     "ename": "SyntaxError",
     "evalue": "invalid syntax (621342052.py, line 1)",
     "output_type": "error",
     "traceback": [
      "\u001b[0;36m  Cell \u001b[0;32mIn[6], line 1\u001b[0;36m\u001b[0m\n\u001b[0;31m    Car myCar = new Car();\u001b[0m\n\u001b[0m        ^\u001b[0m\n\u001b[0;31mSyntaxError\u001b[0m\u001b[0;31m:\u001b[0m invalid syntax\n"
     ]
    }
   ],
   "source": [
    "Car myCar = new Car();\n",
    "MyCar.make = \"Toyota\";\n",
    "myCar.model = \"Camry\";\n",
    "myCar.color = \"Blue\";\n",
    "myCar.year = 2022;\n",
    "\n",
    "myCar.start();\n",
    "myCar.accelerate();\n",
    "myCar.brake();\n",
    "myCar.stop();\n",
    "\n"
   ]
  },
  {
   "cell_type": "code",
   "execution_count": 7,
   "id": "a9d46402-8ce1-4a08-81aa-2bd83fc040d8",
   "metadata": {},
   "outputs": [
    {
     "ename": "SyntaxError",
     "evalue": "invalid syntax (4180324691.py, line 1)",
     "output_type": "error",
     "traceback": [
      "\u001b[0;36m  Cell \u001b[0;32mIn[7], line 1\u001b[0;36m\u001b[0m\n\u001b[0;31m    Car MyCar = new Car();\u001b[0m\n\u001b[0m        ^\u001b[0m\n\u001b[0;31mSyntaxError\u001b[0m\u001b[0;31m:\u001b[0m invalid syntax\n"
     ]
    }
   ],
   "source": [
    " Car MyCar = new Car();\n"
   ]
  },
  {
   "cell_type": "markdown",
   "id": "10d943d2-4b25-4a37-b9a7-4cdf8f121515",
   "metadata": {},
   "source": [
    "## Q2. Name the four pillars of OOPs?"
   ]
  },
  {
   "cell_type": "markdown",
   "id": "f6f90098-a7e7-48d1-889f-47b606a1faa5",
   "metadata": {},
   "source": [
    "# ans\n",
    "## The four pillars of Object-Oriented Programming (OOP) are:\n",
    "\n",
    "1.Encapsulation\n",
    "\n",
    "2.Abstraction\n",
    "\n",
    "3.Inheritance \n",
    "\n",
    "4.Polymorphism"
   ]
  },
  {
   "cell_type": "markdown",
   "id": "0ec08937-62c4-4f83-be46-edea34161207",
   "metadata": {},
   "source": [
    "## Q3. Explain why the __init__() function is used. Give a suitable example?"
   ]
  },
  {
   "cell_type": "code",
   "execution_count": 8,
   "id": "7eff540b-5691-44a6-b228-304f0a21afd1",
   "metadata": {},
   "outputs": [
    {
     "name": "stdout",
     "output_type": "stream",
     "text": [
      "Hello, my name is Alice and I am 25 years old.\n",
      "Hello, my name is Bob and I am 30 years old.\n"
     ]
    }
   ],
   "source": [
    "# ANS\n",
    "# n object-oriented programming, the __init__() function is a special method that is called when an object of a class is created. It is used to initialize the attributes of the object with default or user-defined values\n",
    "\n",
    "class Person:\n",
    "    def __init__(self, name, age):\n",
    "        self.name = name\n",
    "        self.age = age\n",
    "\n",
    "    def say_hello(self):\n",
    "        print(f\"Hello, my name is {self.name} and I am {self.age} years old.\")\n",
    "\n",
    "person1 = Person(\"Alice\", 25)\n",
    "person2 = Person(\"Bob\", 30)\n",
    "\n",
    "person1.say_hello() # Output: Hello, my name is Alice and I am 25 years old.\n",
    "person2.say_hello() # Output: Hello, my name is Bob and I am 30 years old.\n"
   ]
  },
  {
   "cell_type": "markdown",
   "id": "28dbe721-b1ba-45be-998e-23de50e6d423",
   "metadata": {},
   "source": [
    "## Q4. Why self is used in OOPs?"
   ]
  },
  {
   "cell_type": "code",
   "execution_count": 10,
   "id": "b412b58f-e531-45c6-bc13-b0f674e28cdb",
   "metadata": {},
   "outputs": [],
   "source": [
    "# ANS\n",
    "# In Object-Oriented Programming (OOP), self is a reference to the current instance of a class. It is a special parameter that is used in class methods and instance methods to refer to the object itself.\n",
    "\n",
    "class Dog:\n",
    "    def __init__(self, name):\n",
    "        self.name = name\n",
    "\n",
    "    def bark(self):\n",
    "        print(f\"{self.name} says woof!\")\n"
   ]
  },
  {
   "cell_type": "markdown",
   "id": "da97ad21-6bac-4685-a2e7-34d0723a7fce",
   "metadata": {},
   "source": [
    "## Q5. What is inheritance? Give an example for each type of inheritance?"
   ]
  },
  {
   "cell_type": "code",
   "execution_count": 11,
   "id": "e2615958-7cbb-4c6b-a0ed-abb4e639f1ac",
   "metadata": {},
   "outputs": [
    {
     "name": "stdout",
     "output_type": "stream",
     "text": [
      "Woof!\n",
      "Animal speaks.\n"
     ]
    }
   ],
   "source": [
    "# ANS\n",
    "# Inheritance is a fundamental concept in Object-Oriented Programming (OOP) that allows one class to inherit the properties and behavior of another class. The class that is being inherited from is called the base class or parent class, and the class that inherits from it is called the derived class or child class.\n",
    "\n",
    "# There are several types of inheritance in OOP:\n",
    "# Single Inheritance\n",
    "\n",
    "class Animal:\n",
    "    def __init__(self, name):\n",
    "        self.name = name\n",
    "\n",
    "    def speak(self):\n",
    "        print(\"Animal speaks.\")\n",
    "\n",
    "class Dog(Animal):\n",
    "    def bark(self):\n",
    "        print(\"Woof!\")\n",
    "\n",
    "dog = Dog(\"Buddy\")\n",
    "dog.bark() # Output: Woof!\n",
    "dog.speak() # Output: Animal speaks.\n"
   ]
  },
  {
   "cell_type": "code",
   "execution_count": 12,
   "id": "1e702294-44e2-4e51-8fb8-188e588fbacb",
   "metadata": {},
   "outputs": [
    {
     "name": "stdout",
     "output_type": "stream",
     "text": [
      "Woof!\n",
      "Mammal runs.\n",
      "Animal speaks.\n"
     ]
    }
   ],
   "source": [
    "# EXAMPLE\n",
    "# MULTILEVEL Inheritance\n",
    "\n",
    "class Animal:\n",
    "    def speak(self):\n",
    "        print(\"Animal speaks.\")\n",
    "\n",
    "class Mammal(Animal):\n",
    "    def run(self):\n",
    "        print(\"Mammal runs.\")\n",
    "\n",
    "class Dog(Mammal):\n",
    "    def bark(self):\n",
    "        print(\"Woof!\")\n",
    "\n",
    "dog = Dog()\n",
    "dog.bark() # Output: Woof!\n",
    "dog.run() # Output: Mammal runs.\n",
    "dog.speak() # Output: Animal speaks.\n"
   ]
  },
  {
   "cell_type": "code",
   "execution_count": 13,
   "id": "2cd4d184-5cdb-4092-8536-fcad306ac04a",
   "metadata": {},
   "outputs": [
    {
     "name": "stdout",
     "output_type": "stream",
     "text": [
      "Woof!\n",
      "Animal speaks.\n",
      "Meow!\n",
      "Animal speaks.\n"
     ]
    }
   ],
   "source": [
    "# EXAMPLE\n",
    "# Hierarchical Inheritance\n",
    "\n",
    "class Animal:\n",
    "    def speak(self):\n",
    "        print(\"Animal speaks.\")\n",
    "\n",
    "class Dog(Animal):\n",
    "    def bark(self):\n",
    "        print(\"Woof!\")\n",
    "\n",
    "class Cat(Animal):\n",
    "    def meow(self):\n",
    "        print(\"Meow!\")\n",
    "\n",
    "dog = Dog()\n",
    "dog.bark() # Output: Woof!\n",
    "dog.speak() # Output: Animal speaks.\n",
    "\n",
    "cat = Cat()\n",
    "cat.meow() # Output: Meow!\n",
    "cat.speak() # Output: Animal speaks.\n"
   ]
  },
  {
   "cell_type": "code",
   "execution_count": null,
   "id": "917702b2-0f9d-47bd-a98d-e0dbbed491c0",
   "metadata": {},
   "outputs": [],
   "source": [
    "# example\n",
    "m"
   ]
  }
 ],
 "metadata": {
  "kernelspec": {
   "display_name": "Python 3 (ipykernel)",
   "language": "python",
   "name": "python3"
  },
  "language_info": {
   "codemirror_mode": {
    "name": "ipython",
    "version": 3
   },
   "file_extension": ".py",
   "mimetype": "text/x-python",
   "name": "python",
   "nbconvert_exporter": "python",
   "pygments_lexer": "ipython3",
   "version": "3.10.8"
  }
 },
 "nbformat": 4,
 "nbformat_minor": 5
}
